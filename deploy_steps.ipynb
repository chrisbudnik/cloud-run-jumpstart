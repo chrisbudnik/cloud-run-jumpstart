{
 "cells": [
  {
   "cell_type": "code",
   "execution_count": null,
   "metadata": {},
   "outputs": [],
   "source": [
    "from deploy_all import (\n",
    "    create_artifact_repository,\n",
    "    create_service_account_with_permissions,\n",
    "    create_cloud_build_trigger\n",
    ")"
   ]
  },
  {
   "cell_type": "markdown",
   "metadata": {},
   "source": [
    "## **Create Artifact Registry Docker Repository**"
   ]
  },
  {
   "cell_type": "code",
   "execution_count": null,
   "metadata": {},
   "outputs": [],
   "source": [
    "create_artifact_repository(\n",
    "    project_id='chris-sandbox-2023',\n",
    "    repository_name='cloud-run-docker-images',\n",
    "    location='us-central1'\n",
    ")"
   ]
  }
 ],
 "metadata": {
  "language_info": {
   "name": "python"
  }
 },
 "nbformat": 4,
 "nbformat_minor": 2
}
