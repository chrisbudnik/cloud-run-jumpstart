{
 "cells": [
  {
   "cell_type": "code",
   "execution_count": 1,
   "metadata": {},
   "outputs": [],
   "source": [
    "from deploy_all import (\n",
    "    create_artifact_repository,\n",
    "    create_service_account_with_permissions,\n",
    "    create_cloud_build_trigger\n",
    ")"
   ]
  },
  {
   "cell_type": "markdown",
   "metadata": {},
   "source": [
    "## **Create Artifact Registry Docker Repository**"
   ]
  },
  {
   "cell_type": "code",
   "execution_count": null,
   "metadata": {},
   "outputs": [],
   "source": [
    "create_artifact_repository(\n",
    "    project_id='chris-sandbox-2023',\n",
    "    repository_name='cloud-run-docker-images',\n",
    "    location='us-central1'\n",
    ")"
   ]
  },
  {
   "cell_type": "markdown",
   "metadata": {},
   "source": [
    "## **Create Service Accounts**"
   ]
  },
  {
   "cell_type": "code",
   "execution_count": null,
   "metadata": {},
   "outputs": [],
   "source": [
    "# Create service account: cloud-run-operations\n",
    "roles_operations = [\n",
    "    \"roles/bigquery.jobUser\",    \n",
    "    \"roles/bigquery.dataViewer\",  \n",
    "    \"roles/viewer\",               \n",
    "    \"roles/storage.admin\",        \n",
    "]\n",
    "\n",
    "service_account_ops = create_service_account_with_permissions(\n",
    "    project_id = 'chris-sandbox-2023', \n",
    "    service_account_name = \"sa-cloud-run-operations\", \n",
    "    display_name = \"Service account for Cloud Run management and internal operations.\", \n",
    "    roles=roles_operations\n",
    ")\n",
    "\n",
    "# Create service account: cloud-run-deployment\n",
    "roles_deployment = [\n",
    "    \"roles/artifactregistry.writer\",\n",
    "    \"roles/run.admin\",\n",
    "    \"roles/logging.logWriter\",\n",
    "    \"roles/iam.serviceAccountUser\",\n",
    "    \"roles/sourcerepo.reader\"\n",
    "]\n",
    "\n",
    "service_account_deploy = create_service_account_with_permissions(\n",
    "    project_id = 'chris-sandbox-2023', \n",
    "    service_account_name = \"sa-cloud-run-deployment\", \n",
    "    display_name = \"Service account for Cloud Build to deploy Cloud Run apps.\", \n",
    "    roles=roles_deployment\n",
    ")"
   ]
  },
  {
   "cell_type": "markdown",
   "metadata": {},
   "source": [
    "## **Create Cloud Build Deployment Trigger**"
   ]
  },
  {
   "cell_type": "code",
   "execution_count": null,
   "metadata": {},
   "outputs": [],
   "source": [
    "create_cloud_build_trigger(\n",
    "    project_id = 'chris-sandbox-2023', \n",
    "    repo_name = \"cloud-run-jumpstart\", \n",
    "    repo_owner = \"chrisbudnik\", \n",
    "    repo_connection=\"chris-github-connection\",\n",
    "    region = \"us-central1\",\n",
    "    trigger_name = \"cloud-run-jumpstart-deploy\", \n",
    "    service_account_email = 'sa-cloud-run-deployment@chris-sandbox-2023.iam.gserviceaccount.com', \n",
    "    config_yaml = \"cloudbuild.yaml\"\n",
    ")"
   ]
  },
  {
   "cell_type": "markdown",
   "metadata": {},
   "source": [
    "## **Run Trigger & Deploy Service**"
   ]
  },
  {
   "cell_type": "code",
   "execution_count": null,
   "metadata": {},
   "outputs": [],
   "source": []
  }
 ],
 "metadata": {
  "kernelspec": {
   "display_name": "base",
   "language": "python",
   "name": "python3"
  },
  "language_info": {
   "codemirror_mode": {
    "name": "ipython",
    "version": 3
   },
   "file_extension": ".py",
   "mimetype": "text/x-python",
   "name": "python",
   "nbconvert_exporter": "python",
   "pygments_lexer": "ipython3",
   "version": "3.11.4"
  }
 },
 "nbformat": 4,
 "nbformat_minor": 2
}
